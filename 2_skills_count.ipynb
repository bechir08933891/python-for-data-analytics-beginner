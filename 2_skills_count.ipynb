{
 "cells": [
  {
   "cell_type": "markdown",
   "id": "2c391e7a",
   "metadata": {},
   "source": [
    "# What are the most demanded skills for top 3 most popular data roles?\n",
    "**Methodology**\n",
    "1. clean-up skill column\n",
    "2. calculate skill count based on job_title_short\n",
    "3. plot initial findings\n",
    "4. calculate skill percentage\n",
    "5. plot final findings"
   ]
  },
  {
   "cell_type": "code",
   "execution_count": 1,
   "id": "0291dd56",
   "metadata": {},
   "outputs": [
    {
     "name": "stdout",
     "output_type": "stream",
     "text": [
      "hello\n"
     ]
    }
   ],
   "source": [
    "print(\"hello\")"
   ]
  },
  {
   "cell_type": "code",
   "execution_count": null,
   "id": "0abbcd97",
   "metadata": {},
   "outputs": [],
   "source": []
  }
 ],
 "metadata": {
  "kernelspec": {
   "display_name": "ds_env",
   "language": "python",
   "name": "python3"
  },
  "language_info": {
   "codemirror_mode": {
    "name": "ipython",
    "version": 3
   },
   "file_extension": ".py",
   "mimetype": "text/x-python",
   "name": "python",
   "nbconvert_exporter": "python",
   "pygments_lexer": "ipython3",
   "version": "3.13.5"
  }
 },
 "nbformat": 4,
 "nbformat_minor": 5
}
